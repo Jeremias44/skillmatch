{
 "cells": [
  {
   "cell_type": "code",
   "execution_count": 2,
   "metadata": {},
   "outputs": [],
   "source": [
    "import random\n",
    "import unidecode"
   ]
  },
  {
   "cell_type": "code",
   "execution_count": 3,
   "metadata": {},
   "outputs": [],
   "source": [
    "from caracteristicas import nombres, apellidos, experiencias_data, experiencias_finanzas, experiencias_RRHH, experiencias_web, habilidades_data_web, habilidades_finanzas_RRHH\n",
    "from caracteristicas import herramientas_data, herramientas_finanzas, herramientas_RRHH, herramientas_web\n",
    "from caracteristicas import puestos_data, puestos_finanzas, puestos_RRHH, puestos_web, empresas, idioma1, idioma2, nivel2"
   ]
  },
  {
   "cell_type": "code",
   "execution_count": 4,
   "metadata": {},
   "outputs": [],
   "source": [
    "def crear_cv(nombres, apellidos, experiencias, habilidades, herramientas, puestos):\n",
    "    # Seleccionar un nombre y apellido al azar de las listas proporcionadas\n",
    "    nombre_random = random.choice(nombres)\n",
    "    apellido_random = random.choice(apellidos)\n",
    "\n",
    "    # Seleccionar una experiencia y habilidades al azar de las listas proporcionadas\n",
    "    experiencia_random = random.choice(experiencias)\n",
    "    habilidades_random = random.choice(habilidades)\n",
    "\n",
    "    # Seleccionar entre 3 y 10 herramientas aleatorias de la lista proporcionada\n",
    "    n = random.randint(3, 12)\n",
    "    herramientas_random = random.sample(herramientas, n)\n",
    "\n",
    "    # Selecciona entre 1 y 7 puestos aleatorios de la lista proporcionada\n",
    "    n = random.randint(1, 7)\n",
    "    puestos_random = random.sample(puestos, n)\n",
    "\n",
    "\n",
    "\n",
    "\n",
    "    # Crear el contenido del currículum en formato de texto\n",
    "    contenido = f\"Nombre: {nombre_random} {apellido_random}\\n\"\n",
    "    contenido += f'\\nCorreo Electrónico: {unidecode.unidecode(nombre_random.replace(\" \", \"\").lower())}{unidecode.unidecode(apellido_random.replace(\" \", \"\").lower())}@skillmatchcv.com\\n'\n",
    "    contenido += f\" \\nAbout:\\nProfesional con background en {experiencia_random}.\\n\"\n",
    "    contenido += f\"Me destaco por mi {habilidades_random}.\\n\"\n",
    "    contenido += \" \\nHerramientas técnicas:\\n\"\n",
    "    for i, herramienta in enumerate(herramientas_random, start=1):\n",
    "        contenido += f\"{i}. {herramienta}\\n\"\n",
    "\n",
    "    contenido += \"\\nExperiencia laboral:\\n\"\n",
    "    for i, puesto in enumerate(puestos_random, start=1):\n",
    "        contenido += f\"{i}. {puesto} en {random.choice(empresas)} ({random.randint(2, 8)} años)\\n\"\n",
    "\n",
    "    contenido += \"\\nIdiomas:\\n\"\n",
    "    contenido += '1. Español (nativo)'\n",
    "    n = random.randint(1, 21)\n",
    "    if n%2 == 1:\n",
    "        contenido += f'\\n2. {random.choice(idioma1)}'\n",
    "    if n%7 == 0:\n",
    "        contenido += f'\\n3. {random.choice(idioma2)} {random.choice(nivel2)}\\n'\n",
    "\n",
    "\n",
    "\n",
    "\n",
    "    # Guardar el currículum en un archivo .txt con un nombre autoincremental\n",
    "    while True:\n",
    "        nombre_archivo = f\"CV/{contador_archivos} {nombre_random} {apellido_random}.txt\"\n",
    "        try:\n",
    "            with open(nombre_archivo, \"x\", encoding=\"utf-8\") as archivo:\n",
    "                archivo.write(contenido)\n",
    "            break\n",
    "        except FileExistsError:\n",
    "            print('el archivo ya existe')"
   ]
  },
  {
   "cell_type": "code",
   "execution_count": 9,
   "metadata": {},
   "outputs": [],
   "source": [
    "with open('CV/000contador.txt', 'r', encoding='utf-8') as file:\n",
    "            contador_archivos = int(file.read())\n",
    "\n",
    "# Crea 25 cv orientados a data\n",
    "for i in range(contador_archivos,contador_archivos+25):\n",
    "    contador_archivos = i\n",
    "    crear_cv(nombres, apellidos, experiencias_data, habilidades_data_web, herramientas_data, puestos_data)\n",
    "\n",
    "# Crea 25 cv orientado a full stack\n",
    "for i in range(contador_archivos+1,contador_archivos+26):\n",
    "    contador_archivos = i\n",
    "    crear_cv(nombres, apellidos, experiencias_web, habilidades_data_web, herramientas_web, puestos_web)\n",
    "\n",
    "# Crea 25 cv orientado a finanzas\n",
    "for i in range(contador_archivos+1,contador_archivos+26):\n",
    "    contador_archivos = i\n",
    "    crear_cv(nombres, apellidos, experiencias_finanzas, habilidades_finanzas_RRHH, herramientas_finanzas, puestos_finanzas)\n",
    "\n",
    "# Crea 25 cv orientado a RRHH\n",
    "for i in range(contador_archivos+1,contador_archivos+26):\n",
    "    contador_archivos = i\n",
    "    crear_cv(nombres, apellidos, experiencias_RRHH, habilidades_finanzas_RRHH, herramientas_RRHH, puestos_RRHH)\n",
    "\n",
    "with open('CV/000contador.txt', \"w\", encoding=\"utf-8\") as file:\n",
    "                file.write(str(contador_archivos+1))"
   ]
  }
 ],
 "metadata": {
  "kernelspec": {
   "display_name": "Python 3",
   "language": "python",
   "name": "python3"
  },
  "language_info": {
   "codemirror_mode": {
    "name": "ipython",
    "version": 3
   },
   "file_extension": ".py",
   "mimetype": "text/x-python",
   "name": "python",
   "nbconvert_exporter": "python",
   "pygments_lexer": "ipython3",
   "version": "3.11.2"
  }
 },
 "nbformat": 4,
 "nbformat_minor": 2
}
